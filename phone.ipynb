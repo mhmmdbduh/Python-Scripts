{
 "cells": [
  {
   "cell_type": "code",
   "execution_count": 65,
   "metadata": {},
   "outputs": [],
   "source": [
    "import pandas as pd\n",
    "import re\n"
   ]
  },
  {
   "cell_type": "code",
   "execution_count": 66,
   "metadata": {},
   "outputs": [
    {
     "data": {
      "text/html": [
       "<div>\n",
       "<style scoped>\n",
       "    .dataframe tbody tr th:only-of-type {\n",
       "        vertical-align: middle;\n",
       "    }\n",
       "\n",
       "    .dataframe tbody tr th {\n",
       "        vertical-align: top;\n",
       "    }\n",
       "\n",
       "    .dataframe thead th {\n",
       "        text-align: right;\n",
       "    }\n",
       "</style>\n",
       "<table border=\"1\" class=\"dataframe\">\n",
       "  <thead>\n",
       "    <tr style=\"text-align: right;\">\n",
       "      <th></th>\n",
       "      <th>Unnamed: 0</th>\n",
       "      <th>Unnamed: 1</th>\n",
       "      <th>Unnamed: 2</th>\n",
       "      <th>Unnamed: 3</th>\n",
       "      <th>Unnamed: 4</th>\n",
       "    </tr>\n",
       "  </thead>\n",
       "  <tbody>\n",
       "    <tr>\n",
       "      <th>0</th>\n",
       "      <td>NaN</td>\n",
       "      <td>Send SMS from own number using PushBullet</td>\n",
       "      <td>NaN</td>\n",
       "      <td>NaN</td>\n",
       "      <td>NaN</td>\n",
       "    </tr>\n",
       "    <tr>\n",
       "      <th>1</th>\n",
       "      <td>NaN</td>\n",
       "      <td>NaN</td>\n",
       "      <td>NaN</td>\n",
       "      <td>NaN</td>\n",
       "      <td>NaN</td>\n",
       "    </tr>\n",
       "    <tr>\n",
       "      <th>2</th>\n",
       "      <td>NaN</td>\n",
       "      <td>Access Token:</td>\n",
       "      <td>o.JATaW51xrhdLfMfoDr9skZqrMXj0DnJd</td>\n",
       "      <td>NaN</td>\n",
       "      <td>NaN</td>\n",
       "    </tr>\n",
       "    <tr>\n",
       "      <th>3</th>\n",
       "      <td>NaN</td>\n",
       "      <td>Target Device Id:</td>\n",
       "      <td>ujxsB9sUTgisjErpO8TgIu</td>\n",
       "      <td>NaN</td>\n",
       "      <td>NaN</td>\n",
       "    </tr>\n",
       "    <tr>\n",
       "      <th>4</th>\n",
       "      <td>NaN</td>\n",
       "      <td>NaN</td>\n",
       "      <td>NaN</td>\n",
       "      <td>NaN</td>\n",
       "      <td>NaN</td>\n",
       "    </tr>\n",
       "    <tr>\n",
       "      <th>5</th>\n",
       "      <td>NaN</td>\n",
       "      <td>Pushbullet API Documentation</td>\n",
       "      <td>NaN</td>\n",
       "      <td>NaN</td>\n",
       "      <td>NaN</td>\n",
       "    </tr>\n",
       "    <tr>\n",
       "      <th>6</th>\n",
       "      <td>NaN</td>\n",
       "      <td>NaN</td>\n",
       "      <td>NaN</td>\n",
       "      <td>NaN</td>\n",
       "      <td>NaN</td>\n",
       "    </tr>\n",
       "    <tr>\n",
       "      <th>7</th>\n",
       "      <td>NaN</td>\n",
       "      <td>Receiver</td>\n",
       "      <td>Text Message</td>\n",
       "      <td>Length</td>\n",
       "      <td>Status</td>\n",
       "    </tr>\n",
       "    <tr>\n",
       "      <th>8</th>\n",
       "      <td>NaN</td>\n",
       "      <td>+19046879274</td>\n",
       "      <td>tge[sdfksdlfksldf</td>\n",
       "      <td>NaN</td>\n",
       "      <td>08/07/2023 12:16:43| Status Code: 200 | Status...</td>\n",
       "    </tr>\n",
       "    <tr>\n",
       "      <th>9</th>\n",
       "      <td>NaN</td>\n",
       "      <td>NaN</td>\n",
       "      <td>NaN</td>\n",
       "      <td>NaN</td>\n",
       "      <td>08/07/2023 12:16:45| Status Code: 200 | Status...</td>\n",
       "    </tr>\n",
       "  </tbody>\n",
       "</table>\n",
       "</div>"
      ],
      "text/plain": [
       "   Unnamed: 0                                 Unnamed: 1  \\\n",
       "0         NaN  Send SMS from own number using PushBullet   \n",
       "1         NaN                                        NaN   \n",
       "2         NaN                              Access Token:   \n",
       "3         NaN                          Target Device Id:   \n",
       "4         NaN                                        NaN   \n",
       "5         NaN               Pushbullet API Documentation   \n",
       "6         NaN                                        NaN   \n",
       "7         NaN                                   Receiver   \n",
       "8         NaN                               +19046879274   \n",
       "9         NaN                                        NaN   \n",
       "\n",
       "                           Unnamed: 2 Unnamed: 3  \\\n",
       "0                                 NaN        NaN   \n",
       "1                                 NaN        NaN   \n",
       "2  o.JATaW51xrhdLfMfoDr9skZqrMXj0DnJd        NaN   \n",
       "3              ujxsB9sUTgisjErpO8TgIu        NaN   \n",
       "4                                 NaN        NaN   \n",
       "5                                 NaN        NaN   \n",
       "6                                 NaN        NaN   \n",
       "7                        Text Message     Length   \n",
       "8                   tge[sdfksdlfksldf        NaN   \n",
       "9                                 NaN        NaN   \n",
       "\n",
       "                                          Unnamed: 4  \n",
       "0                                                NaN  \n",
       "1                                                NaN  \n",
       "2                                                NaN  \n",
       "3                                                NaN  \n",
       "4                                                NaN  \n",
       "5                                                NaN  \n",
       "6                                                NaN  \n",
       "7                                             Status  \n",
       "8  08/07/2023 12:16:43| Status Code: 200 | Status...  \n",
       "9  08/07/2023 12:16:45| Status Code: 200 | Status...  "
      ]
     },
     "execution_count": 66,
     "metadata": {},
     "output_type": "execute_result"
    }
   ],
   "source": [
    "file_name = \"SMS_Pushbullet-2.xlsm\"\n",
    "df = pd.read_excel(file_name)\n",
    "df"
   ]
  },
  {
   "cell_type": "code",
   "execution_count": 67,
   "metadata": {},
   "outputs": [
    {
     "data": {
      "text/plain": [
       "['+19046879274']"
      ]
     },
     "execution_count": 67,
     "metadata": {},
     "output_type": "execute_result"
    }
   ],
   "source": [
    "column_name = \"Unnamed: 1\"\n",
    "phone_numbers = df[column_name].tolist()\n",
    "phone_numbers = phone_numbers[8:9]\n",
    "phone_numbers"
   ]
  },
  {
   "cell_type": "code",
   "execution_count": 68,
   "metadata": {},
   "outputs": [
    {
     "name": "stdout",
     "output_type": "stream",
     "text": [
      "904-687-9274\n"
     ]
    }
   ],
   "source": [
    "def reformat_phone_number(phone_number):\n",
    "    # Match the country code, area code, and local number using groups\n",
    "    match = re.match(r'\\+(\\d{1})(\\d{3})(\\d{3})(\\d{4})', phone_number)\n",
    "    if match:\n",
    "        country_code, area_code, part1, part2 = match.groups()\n",
    "        return f\"{area_code}-{part1}-{part2}\"\n",
    "    return phone_number  # Return the original if no match\n",
    "\n",
    "# Apply the formatting function to each phone number\n",
    "\n",
    "formatted_numbers = []\n",
    "for number in phone_numbers:\n",
    "    formatted_number = reformat_phone_number(number)\n",
    "    formatted_numbers.append(formatted_number)\n",
    "# Print the formatted numbers\n",
    "for number in formatted_numbers:\n",
    "    print(number)"
   ]
  }
 ],
 "metadata": {
  "kernelspec": {
   "display_name": "Python 3",
   "language": "python",
   "name": "python3"
  },
  "language_info": {
   "codemirror_mode": {
    "name": "ipython",
    "version": 3
   },
   "file_extension": ".py",
   "mimetype": "text/x-python",
   "name": "python",
   "nbconvert_exporter": "python",
   "pygments_lexer": "ipython3",
   "version": "3.11.1"
  },
  "orig_nbformat": 4
 },
 "nbformat": 4,
 "nbformat_minor": 2
}
