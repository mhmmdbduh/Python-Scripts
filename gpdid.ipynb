{
 "cells": [
  {
   "cell_type": "code",
   "execution_count": null,
   "metadata": {},
   "outputs": [],
   "source": [
    "import pandas as pd     # pandas is a dataframe library\n",
    "import matplotlib.pyplot as plt     # matplotlib.pyplot plots data\n",
    "import seaborn as sns    # seaborn plots data\n",
    "from sklearn.linear_model import LinearRegression   # for linear regression\n",
    "from sklearn.metrics import mean_squared_error    # for MSE\n",
    "from sklearn.preprocessing import PolynomialFeatures    # for polynomial regression\n",
    "from sklearn.pipeline import make_pipeline\n"
   ]
  },
  {
   "cell_type": "code",
   "execution_count": null,
   "metadata": {},
   "outputs": [],
   "source": [
    "# Load and read data\n",
    "data = pd.read_csv('countries_gdp.csv')\n",
    "\n",
    "# Exoplanaory data analysis\n",
    "\n",
    "data = data[data['Country Name'] == 'Indonesia']\n",
    "data = data.melt(id_vars=['Country Name', 'Country Code', 'Indicator Name', 'Indicator Code'], var_name='Year', value_name='GDP')\n",
    "data = data.drop(['Country Name', 'Country Code', 'Indicator Name', 'Indicator Code'], axis=1)\n",
    "data = data.dropna(axis=0, how='any')\n",
    "data.head(); data.tail()"
   ]
  },
  {
   "cell_type": "code",
   "execution_count": null,
   "metadata": {},
   "outputs": [],
   "source": [
    "fig = plt.figure(figsize=(15,10))\n",
    "sns.catplot(x='Year', y='GDP', data=data, kind='bar', height=5, aspect=2)\n",
    "plt.title('Indonesia GDP per Year')\n",
    "plt.xticks(rotation=90)\n",
    "plt.show()"
   ]
  },
  {
   "cell_type": "code",
   "execution_count": null,
   "metadata": {},
   "outputs": [],
   "source": [
    "X = data[['Year']].values  # Features (Year)\n",
    "y = data['GDP'].values     # Target variable (GDP)\n",
    "\n",
    "degree = 3\n",
    "\n",
    "model = make_pipeline(PolynomialFeatures(degree), LinearRegression())\n",
    "model.fit(X, y)\n",
    "\n",
    "prediction = model.predict([[2023]])\n",
    "\n",
    "print('Prediction of Indonesia GDP in 2023: ', prediction)\n",
    "\n",
    "mse = mean_squared_error(y, model.predict(X))\n",
    "print('MSE: ', mse)\n"
   ]
  },
  {
   "cell_type": "code",
   "execution_count": null,
   "metadata": {},
   "outputs": [],
   "source": [
    "fig = plt.figure(figsize=(10,5))\n",
    "sns.set_style('ticks')\n",
    "sns.scatterplot(x='Year', y='GDP', data=data, color='black')\n",
    "sns.lineplot(x='Year', y=model.predict(X), data=data, color='red')\n",
    "\n",
    "plt.title('Indonesia GDP per Year')\n",
    "plt.xticks(rotation=90)"
   ]
  }
 ],
 "metadata": {
  "kernelspec": {
   "display_name": "Python 3",
   "language": "python",
   "name": "python3"
  },
  "language_info": {
   "codemirror_mode": {
    "name": "ipython",
    "version": 3
   },
   "file_extension": ".py",
   "mimetype": "text/x-python",
   "name": "python",
   "nbconvert_exporter": "python",
   "pygments_lexer": "ipython3",
   "version": "3.11.1"
  },
  "orig_nbformat": 4
 },
 "nbformat": 4,
 "nbformat_minor": 2
}
